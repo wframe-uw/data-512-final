{
 "cells": [
  {
   "cell_type": "markdown",
   "metadata": {},
   "source": [
    "#Motivation\n",
    "Why are you planning to do this analysis? \n",
    "COVID has turned the world upside down and in this country the response varied across locales. I am interested in seeing what factors impacted different \n",
    "Given the poor showing by this and other developed nations in our response to the pandemic, it will be useful from a scientific, practical and human-centered perspective to try and glean any lessons we can about what factors led communities to perform or underperform on critical metrics such as infection rate and infection fatality rate."
   ]
  },
  {
   "cell_type": "markdown",
   "metadata": {},
   "source": [
    "#Data\n",
    "https://electionlab.mit.edu/data : county level vote counts for 2016 president\n",
    "https://github.com/nytimes/covid-19-data : county level covid infections and fatalities by date\n",
    "https://www.census.gov/data/datasets/time-series/demo/popest/2010s-counties-total.html : county population estimates\n",
    "https://www.census.gov/data/datasets/2016/demo/saipe/2016-state-and-county.html : county poverty and median income estimates\n",
    "https://www.census.gov/geographies/mapping-files/time-series/geo/kml-cartographicboundaryfiles.html : county coords in case I want to explore relationships such as effect adjacent counties have on eachother or population density effect"
   ]
  },
  {
   "cell_type": "markdown",
   "metadata": {},
   "source": [
    "#Unknowns\n",
    "If there are holes or other abnormalities in the datasets."
   ]
  }
 ],
 "metadata": {
  "kernelspec": {
   "display_name": "Python [conda env:root] *",
   "language": "python",
   "name": "conda-root-py"
  },
  "language_info": {
   "codemirror_mode": {
    "name": "ipython",
    "version": 3
   },
   "file_extension": ".py",
   "mimetype": "text/x-python",
   "name": "python",
   "nbconvert_exporter": "python",
   "pygments_lexer": "ipython3",
   "version": "3.7.6"
  }
 },
 "nbformat": 4,
 "nbformat_minor": 4
}
