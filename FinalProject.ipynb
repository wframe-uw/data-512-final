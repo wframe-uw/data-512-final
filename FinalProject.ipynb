{
 "cells": [
  {
   "cell_type": "markdown",
   "metadata": {},
   "source": [
    "# Motivation\n",
    "COVID has turned the world upside down and in this country the response varied across locales. I am interested in seeing what factors impacted different communities case rates.\n",
    "Given the poor showing by this and other developed nations in our response to the pandemic, it will be useful from a scientific, practical and human-centered perspective to try and glean any lessons we can about what factors led communities to perform or underperform on critical metrics such as infection rate and infection fatality rate."
   ]
  },
  {
   "cell_type": "markdown",
   "metadata": {},
   "source": [
    "# Data\n",
    "https://electionlab.mit.edu/data : county level vote counts for 2016 president\n",
    "https://github.com/nytimes/covid-19-data : county level covid infections and fatalities by date\n",
    "https://www.census.gov/data/datasets/time-series/demo/popest/2010s-counties-total.html : county population estimates\n",
    "https://www.census.gov/data/datasets/2016/demo/saipe/2016-state-and-county.html : county poverty and median income estimates\n",
    "https://www.census.gov/geographies/mapping-files/time-series/geo/kml-cartographic-boundary-files.html : county coords in case I want to explore relationships such as effect adjacent counties have on eachother or population density effect"
   ]
  },
  {
   "cell_type": "markdown",
   "metadata": {},
   "source": [
    "# Unknowns\n",
    "If there are holes or other abnormalities in the datasets."
   ]
  },
  {
   "cell_type": "markdown",
   "metadata": {},
   "source": [
    "# Research questions:\n",
    "The main hypothesis that will be tested is:\n",
    "After controlling for likely confounders such as county poverty rate, county median household income, county population density and county population total, is there an effect from voter ratio of trump to clinton in that county in the 2016 election on fatalities attributed to Covid w/in that county (obviously it would be ideal to have 2020 biden/trump ratio as well, and if this becomes available I will use it). This effect will be explored in a couple of ways, discussed under the methodology.\n"
   ]
  },
  {
   "cell_type": "markdown",
   "metadata": {},
   "source": [
    "# Background/Existing work:\n",
    "I haven't found this analysis performed anywhere yet, though in June the media started writing a lot about the increase of Covid cases in red states for instance:\n",
    "https://apnews.com/article/7aa2fcf7955333834e01a7f9217c77d2\n",
    "I did find a study similar to the one I am doing but at the state level:\n",
    "https://www.medrxiv.org/content/10.1101/2020.10.16.20213892v2\n",
    "https://www.washingtonpost.com/politics/2020/06/24/shift-coronavirus-primarily-red-states-is-complete-its-not-that-simple/"
   ]
  },
  {
   "cell_type": "markdown",
   "metadata": {},
   "source": [
    "# Methodology:\n",
    "The most straightforward approach will be to test cumulative deaths to date in a multiple linear regression model. As a secondary approach I will examine results of the same analysis for some partial cumulatives, to see how the effect has changed over time."
   ]
  }
 ],
 "metadata": {
  "kernelspec": {
   "display_name": "Python [conda env:root] *",
   "language": "python",
   "name": "conda-root-py"
  },
  "language_info": {
   "codemirror_mode": {
    "name": "ipython",
    "version": 3
   },
   "file_extension": ".py",
   "mimetype": "text/x-python",
   "name": "python",
   "nbconvert_exporter": "python",
   "pygments_lexer": "ipython3",
   "version": "3.7.6"
  }
 },
 "nbformat": 4,
 "nbformat_minor": 4
}
